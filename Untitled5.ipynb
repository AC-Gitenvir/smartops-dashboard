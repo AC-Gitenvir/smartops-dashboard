{
 "cells": [
  {
   "cell_type": "code",
   "execution_count": null,
   "id": "dca20083-512e-42d2-992f-38e486a1976a",
   "metadata": {},
   "outputs": [],
   "source": [
    "# Step 1: Create a file and add initial content\n",
    "with open(\"mydata.txt\", \"w\") as file:\n",
    "    file.write(\"This is the original content of the file.\")\n",
    "\n",
    "# Step 2: Read and print the original content\n",
    "with open(\"mydata.txt\", \"r\") as file:\n",
    "    original_content = file.read()\n",
    "    print(\"Original Content:\")\n",
    "    print(original_content)\n",
    "\n",
    "# Step 3: Overwrite the file with new content\n",
    "with open(\"mydata.txt\", \"w\") as file:\n",
    "    file.write(\"This is the new updated content of the file.\")\n",
    "\n",
    "# Step 4: Read and print the updated content\n",
    "with open(\"mydata.txt\", \"r\") as file:\n",
    "    updated_content = file.read()\n",
    "    print(\"\\nUpdated Content:\")\n",
    "    print(updated_content)\n"
   ]
  }
 ],
 "metadata": {
  "kernelspec": {
   "display_name": "Python 3 (ipykernel)",
   "language": "python",
   "name": "python3"
  },
  "language_info": {
   "codemirror_mode": {
    "name": "ipython",
    "version": 3
   },
   "file_extension": ".py",
   "mimetype": "text/x-python",
   "name": "python",
   "nbconvert_exporter": "python",
   "pygments_lexer": "ipython3",
   "version": "3.12.7"
  }
 },
 "nbformat": 4,
 "nbformat_minor": 5
}
