{
 "cells": [
  {
   "cell_type": "code",
   "execution_count": 1,
   "id": "5e078e28-d46c-4d43-b620-41813061401d",
   "metadata": {},
   "outputs": [
    {
     "name": "stdin",
     "output_type": "stream",
     "text": [
      "Enter your name:  ayush\n"
     ]
    },
    {
     "name": "stdout",
     "output_type": "stream",
     "text": [
      "Hello ayush\n"
     ]
    }
   ],
   "source": [
    "# Taking input from user\n",
    "name = input(\"Enter your name: \")\n",
    "print(\"Hello\", name)\n",
    "\n"
   ]
  },
  {
   "cell_type": "code",
   "execution_count": 3,
   "id": "6c951cfe-2e06-45eb-9697-1ecb80e672a2",
   "metadata": {},
   "outputs": [
    {
     "name": "stdin",
     "output_type": "stream",
     "text": [
      "Enter your age:  7\n"
     ]
    },
    {
     "name": "stdout",
     "output_type": "stream",
     "text": [
      "You are not eligible to vote.\n"
     ]
    }
   ],
   "source": [
    "# If-Else Example\n",
    "age = int(input(\"Enter your age: \"))\n",
    "\n",
    "if age >= 18:\n",
    "    print(\"You are eligible to vote.\")\n",
    "else:\n",
    "    print(\"You are not eligible to vote.\")\n",
    "\n"
   ]
  },
  {
   "cell_type": "code",
   "execution_count": 4,
   "id": "71ca4250-b23c-4370-9a7d-c1d7ec1556c5",
   "metadata": {},
   "outputs": [
    {
     "name": "stdout",
     "output_type": "stream",
     "text": [
      "Computer chose: paper\n"
     ]
    }
   ],
   "source": [
    "import random\n",
    "\n",
    "options = ['rock', 'paper', 'scissors']\n",
    "computer_choice = random.choice(options)\n",
    "print(\"Computer chose:\", computer_choice)\n",
    "\n"
   ]
  },
  {
   "cell_type": "code",
   "execution_count": 5,
   "id": "e44915a8-840f-4f47-9315-4bd773e6779a",
   "metadata": {},
   "outputs": [
    {
     "name": "stdin",
     "output_type": "stream",
     "text": [
      "Enter your marks:  77\n"
     ]
    },
    {
     "name": "stdout",
     "output_type": "stream",
     "text": [
      "Grade: B\n"
     ]
    }
   ],
   "source": [
    "marks = int(input(\"Enter your marks: \"))\n",
    "\n",
    "if marks >= 90:\n",
    "    print(\"Grade: A\")\n",
    "elif marks >= 75:\n",
    "    print(\"Grade: B\")\n",
    "elif marks >= 60:\n",
    "    print(\"Grade: C\")\n",
    "else:\n",
    "    print(\"Grade: D or Fail\")\n"
   ]
  },
  {
   "cell_type": "code",
   "execution_count": 6,
   "id": "f1966a1a-1e90-44a9-accc-92787d286d0d",
   "metadata": {},
   "outputs": [
    {
     "name": "stdout",
     "output_type": "stream",
     "text": [
      "Welcome to Rock, Paper, Scissors Game!\n"
     ]
    },
    {
     "name": "stdin",
     "output_type": "stream",
     "text": [
      "How many rounds do you want to play?  7\n"
     ]
    },
    {
     "name": "stdout",
     "output_type": "stream",
     "text": [
      "\n",
      "Round 1\n"
     ]
    },
    {
     "name": "stdin",
     "output_type": "stream",
     "text": [
      "Enter rock, paper, or scissors:  rock\n"
     ]
    },
    {
     "name": "stdout",
     "output_type": "stream",
     "text": [
      "Computer chose: rock\n",
      "It's a tie!\n",
      "\n",
      "Round 2\n"
     ]
    },
    {
     "name": "stdin",
     "output_type": "stream",
     "text": [
      "Enter rock, paper, or scissors:  paper\n"
     ]
    },
    {
     "name": "stdout",
     "output_type": "stream",
     "text": [
      "Computer chose: rock\n",
      "You win this round!\n",
      "\n",
      "Round 3\n"
     ]
    },
    {
     "name": "stdin",
     "output_type": "stream",
     "text": [
      "Enter rock, paper, or scissors:  paper\n"
     ]
    },
    {
     "name": "stdout",
     "output_type": "stream",
     "text": [
      "Computer chose: scissors\n",
      "Computer wins this round!\n",
      "\n",
      "Round 4\n"
     ]
    },
    {
     "name": "stdin",
     "output_type": "stream",
     "text": [
      "Enter rock, paper, or scissors:  paper\n"
     ]
    },
    {
     "name": "stdout",
     "output_type": "stream",
     "text": [
      "Computer chose: scissors\n",
      "Computer wins this round!\n",
      "\n",
      "Round 5\n"
     ]
    },
    {
     "name": "stdin",
     "output_type": "stream",
     "text": [
      "Enter rock, paper, or scissors:  paper\n"
     ]
    },
    {
     "name": "stdout",
     "output_type": "stream",
     "text": [
      "Computer chose: scissors\n",
      "Computer wins this round!\n",
      "\n",
      "Round 6\n"
     ]
    },
    {
     "name": "stdin",
     "output_type": "stream",
     "text": [
      "Enter rock, paper, or scissors:  scissor\n"
     ]
    },
    {
     "name": "stdout",
     "output_type": "stream",
     "text": [
      "Computer chose: paper\n",
      "Invalid input. Round skipped.\n",
      "\n",
      "Round 7\n"
     ]
    },
    {
     "name": "stdin",
     "output_type": "stream",
     "text": [
      "Enter rock, paper, or scissors:  scissors\n"
     ]
    },
    {
     "name": "stdout",
     "output_type": "stream",
     "text": [
      "Computer chose: rock\n",
      "Computer wins this round!\n",
      "\n",
      "Game Over!\n",
      "Your score: 1\n",
      "Computer score: 4\n",
      "😢 Computer wins the game!\n"
     ]
    }
   ],
   "source": [
    "import random\n",
    "\n",
    "print(\"Welcome to Rock, Paper, Scissors Game!\")\n",
    "\n",
    "# Options\n",
    "options = [\"rock\", \"paper\", \"scissors\"]\n",
    "\n",
    "# Score tracking\n",
    "user_score = 0\n",
    "computer_score = 0\n",
    "rounds = int(input(\"How many rounds do you want to play? \"))\n",
    "\n",
    "for i in range(rounds):\n",
    "    print(f\"\\nRound {i+1}\")\n",
    "    user_choice = input(\"Enter rock, paper, or scissors: \").lower()\n",
    "    computer_choice = random.choice(options)\n",
    "\n",
    "    print(\"Computer chose:\", computer_choice)\n",
    "\n",
    "    # Game logic\n",
    "    if user_choice == computer_choice:\n",
    "        print(\"It's a tie!\")\n",
    "    elif (user_choice == \"rock\" and computer_choice == \"scissors\") or \\\n",
    "         (user_choice == \"paper\" and computer_choice == \"rock\") or \\\n",
    "         (user_choice == \"scissors\" and computer_choice == \"paper\"):\n",
    "        print(\"You win this round!\")\n",
    "        user_score += 1\n",
    "    elif user_choice in options:\n",
    "        print(\"Computer wins this round!\")\n",
    "        computer_score += 1\n",
    "    else:\n",
    "        print(\"Invalid input. Round skipped.\")\n",
    "\n",
    "# Final Result\n",
    "print(\"\\nGame Over!\")\n",
    "print(\"Your score:\", user_score)\n",
    "print(\"Computer score:\", computer_score)\n",
    "\n",
    "if user_score > computer_score:\n",
    "    print(\"🎉 You win the game!\")\n",
    "elif user_score < computer_score:\n",
    "    print(\"😢 Computer wins the game!\")\n",
    "else:\n",
    "    print(\"It's a draw!\")\n"
   ]
  },
  {
   "cell_type": "code",
   "execution_count": null,
   "id": "0d904051-3aea-4eaa-8a82-04cb5d01c508",
   "metadata": {},
   "outputs": [],
   "source": []
  }
 ],
 "metadata": {
  "kernelspec": {
   "display_name": "Python 3 (ipykernel)",
   "language": "python",
   "name": "python3"
  },
  "language_info": {
   "codemirror_mode": {
    "name": "ipython",
    "version": 3
   },
   "file_extension": ".py",
   "mimetype": "text/x-python",
   "name": "python",
   "nbconvert_exporter": "python",
   "pygments_lexer": "ipython3",
   "version": "3.12.7"
  }
 },
 "nbformat": 4,
 "nbformat_minor": 5
}
