{
 "cells": [
  {
   "cell_type": "code",
   "execution_count": 1,
   "id": "905c1fa1-74f1-4ef5-aa56-bfd4cca498f6",
   "metadata": {},
   "outputs": [
    {
     "ename": "NameError",
     "evalue": "name 'gemini_model' is not defined",
     "output_type": "error",
     "traceback": [
      "\u001b[1;31m---------------------------------------------------------------------------\u001b[0m",
      "\u001b[1;31mNameError\u001b[0m                                 Traceback (most recent call last)",
      "Cell \u001b[1;32mIn[1], line 10\u001b[0m\n\u001b[0;32m      6\u001b[0m     response \u001b[38;5;241m=\u001b[39m gemini_model\u001b[38;5;241m.\u001b[39mchat\u001b[38;5;241m.\u001b[39mcompletions\u001b[38;5;241m.\u001b[39mcreate(model\u001b[38;5;241m=\u001b[39m\u001b[38;5;124m\"\u001b[39m\u001b[38;5;124mgemini-2.5-flash\u001b[39m\u001b[38;5;124m\"\u001b[39m,messages\u001b[38;5;241m=\u001b[39mmymsg)\n\u001b[0;32m      8\u001b[0m     \u001b[38;5;28;01mreturn\u001b[39;00m(response\u001b[38;5;241m.\u001b[39mchoices[\u001b[38;5;241m0\u001b[39m]\u001b[38;5;241m.\u001b[39mmessage\u001b[38;5;241m.\u001b[39mcontent)\n\u001b[1;32m---> 10\u001b[0m myadvice \u001b[38;5;241m=\u001b[39m lovegurullm(\u001b[38;5;124m\"\u001b[39m\u001b[38;5;124mi am not feeling good\u001b[39m\u001b[38;5;124m\"\u001b[39m)\n\u001b[0;32m     11\u001b[0m myadvice\n\u001b[0;32m     12\u001b[0m \u001b[38;5;28;01mfrom\u001b[39;00m \u001b[38;5;21;01mopenai\u001b[39;00m \u001b[38;5;28;01mimport\u001b[39;00m OpenAI\n",
      "Cell \u001b[1;32mIn[1], line 6\u001b[0m, in \u001b[0;36mlovegurullm\u001b[1;34m(myprompt)\u001b[0m\n\u001b[0;32m      1\u001b[0m \u001b[38;5;28;01mdef\u001b[39;00m \u001b[38;5;21mlovegurullm\u001b[39m(myprompt):\n\u001b[0;32m      2\u001b[0m     mymsg \u001b[38;5;241m=\u001b[39m [\n\u001b[0;32m      3\u001b[0m         {\u001b[38;5;124m\"\u001b[39m\u001b[38;5;124mrole\u001b[39m\u001b[38;5;124m\"\u001b[39m : \u001b[38;5;124m\"\u001b[39m\u001b[38;5;124msystem\u001b[39m\u001b[38;5;124m\"\u001b[39m , \u001b[38;5;124m\"\u001b[39m\u001b[38;5;124mcontent\u001b[39m\u001b[38;5;124m\"\u001b[39m : \u001b[38;5;124m\"\u001b[39m\u001b[38;5;124myou are AI assistant work like a linux terminal\u001b[39m\u001b[38;5;124m\"\u001b[39m},\n\u001b[0;32m      4\u001b[0m         {\u001b[38;5;124m\"\u001b[39m\u001b[38;5;124mrole\u001b[39m\u001b[38;5;124m\"\u001b[39m : \u001b[38;5;124m\"\u001b[39m\u001b[38;5;124muser\u001b[39m\u001b[38;5;124m\"\u001b[39m , \u001b[38;5;124m\"\u001b[39m\u001b[38;5;124mcontent\u001b[39m\u001b[38;5;124m\"\u001b[39m : \u001b[38;5;124m\"\u001b[39m\u001b[38;5;124mtell me about date\u001b[39m\u001b[38;5;124m\"\u001b[39m}\n\u001b[0;32m      5\u001b[0m     ]\n\u001b[1;32m----> 6\u001b[0m     response \u001b[38;5;241m=\u001b[39m gemini_model\u001b[38;5;241m.\u001b[39mchat\u001b[38;5;241m.\u001b[39mcompletions\u001b[38;5;241m.\u001b[39mcreate(model\u001b[38;5;241m=\u001b[39m\u001b[38;5;124m\"\u001b[39m\u001b[38;5;124mgemini-2.5-flash\u001b[39m\u001b[38;5;124m\"\u001b[39m,messages\u001b[38;5;241m=\u001b[39mmymsg)\n\u001b[0;32m      8\u001b[0m     \u001b[38;5;28;01mreturn\u001b[39;00m(response\u001b[38;5;241m.\u001b[39mchoices[\u001b[38;5;241m0\u001b[39m]\u001b[38;5;241m.\u001b[39mmessage\u001b[38;5;241m.\u001b[39mcontent)\n",
      "\u001b[1;31mNameError\u001b[0m: name 'gemini_model' is not defined"
     ]
    }
   ],
   "source": [
    "def lovegurullm(myprompt):\n",
    "    mymsg = [\n",
    "        {\"role\" : \"system\" , \"content\" : \"you are AI assistant work like a linux terminal\"},\n",
    "        {\"role\" : \"user\" , \"content\" : \"tell me about date\"}\n",
    "    ]\n",
    "    response = gemini_model.chat.completions.create(model=\"gemini-2.5-flash\",messages=mymsg)\n",
    "\n",
    "    return(response.choices[0].message.content)\n",
    "\n",
    "myadvice = lovegurullm(\"i am not feeling good\")\n",
    "myadvice\n",
    "from openai import OpenAI\n",
    "\n",
    "import gradio as gr\n",
    "gr.Interface(fn=lovegurullm, inputs=\"text\",outputs=\"text\",title=\"love guru\").launch()"
   ]
  },
  {
   "cell_type": "code",
   "execution_count": null,
   "id": "18675eb7-34f6-4a72-a83a-6f499ce5f6a0",
   "metadata": {},
   "outputs": [],
   "source": []
  }
 ],
 "metadata": {
  "kernelspec": {
   "display_name": "Python 3 (ipykernel)",
   "language": "python",
   "name": "python3"
  },
  "language_info": {
   "codemirror_mode": {
    "name": "ipython",
    "version": 3
   },
   "file_extension": ".py",
   "mimetype": "text/x-python",
   "name": "python",
   "nbconvert_exporter": "python",
   "pygments_lexer": "ipython3",
   "version": "3.12.7"
  }
 },
 "nbformat": 4,
 "nbformat_minor": 5
}
