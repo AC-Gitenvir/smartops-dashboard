{
 "cells": [
  {
   "cell_type": "code",
   "execution_count": 4,
   "id": "04e7f767-c818-4451-9270-1667877dfb88",
   "metadata": {},
   "outputs": [
    {
     "name": "stdout",
     "output_type": "stream",
     "text": [
      "Name: Ayush Choudhary\n",
      "College: Vivekananda Global University\n",
      "Memory address of 'name': 2298176854704\n",
      "Memory address of 'age': 140734606027800\n",
      "Memory address of 'branch': 2298176855536\n"
     ]
    }
   ],
   "source": [
    "name = \"Ayush Choudhary\"\n",
    "age = 20\n",
    "branch = \"CSE - AI & DS\"\n",
    "\n",
    "\n",
    "print(\"Name:\", name)\n",
    "print(\"College: Vivekananda Global University\")\n",
    "\n",
    "print(\"Memory address of 'name':\", id(name))\n",
    "print(\"Memory address of 'age':\", id(age))\n",
    "print(\"Memory address of 'branch':\", id(branch))"
   ]
  },
  {
   "cell_type": "code",
   "execution_count": 5,
   "id": "222a98ac-66b6-4f51-9730-1810eabd921d",
   "metadata": {},
   "outputs": [],
   "source": [
    "num_int = 10             # Integer\n",
    "num_float = 3.14         # Float\n",
    "text_str = \"Hello, Ayush\""
   ]
  },
  {
   "cell_type": "code",
   "execution_count": 6,
   "id": "d7b535f4-eafa-48b0-b94b-0b71fe01f30e",
   "metadata": {},
   "outputs": [
    {
     "name": "stdout",
     "output_type": "stream",
     "text": [
      "Value: 10 | Type: <class 'int'> | Memory Address: 140734606027480\n",
      "Value: 3.14 | Type: <class 'float'> | Memory Address: 2298171795344\n",
      "Value: Hello, Ayush | Type: <class 'str'> | Memory Address: 2298176856496\n"
     ]
    }
   ],
   "source": [
    "print(\"Value:\", num_int, \"| Type:\", type(num_int), \"| Memory Address:\", id(num_int))\n",
    "print(\"Value:\", num_float, \"| Type:\", type(num_float), \"| Memory Address:\", id(num_float))\n",
    "print(\"Value:\", text_str, \"| Type:\", type(text_str), \"| Memory Address:\", id(text_str))"
   ]
  },
  {
   "cell_type": "code",
   "execution_count": null,
   "id": "bd8a79e0-792c-403e-a9b9-08e77caa66e9",
   "metadata": {},
   "outputs": [],
   "source": []
  }
 ],
 "metadata": {
  "kernelspec": {
   "display_name": "Python 3 (ipykernel)",
   "language": "python",
   "name": "python3"
  },
  "language_info": {
   "codemirror_mode": {
    "name": "ipython",
    "version": 3
   },
   "file_extension": ".py",
   "mimetype": "text/x-python",
   "name": "python",
   "nbconvert_exporter": "python",
   "pygments_lexer": "ipython3",
   "version": "3.12.7"
  }
 },
 "nbformat": 4,
 "nbformat_minor": 5
}
