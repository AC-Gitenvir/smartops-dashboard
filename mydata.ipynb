{
 "cells": [
  {
   "cell_type": "code",
   "execution_count": 1,
   "id": "dca20083-512e-42d2-992f-38e486a1976a",
   "metadata": {},
   "outputs": [
    {
     "name": "stdout",
     "output_type": "stream",
     "text": [
      "Original Content:\n",
      "This is the original content of the file.\n",
      "\n",
      "Updated Content:\n",
      "This is the new updated content of the file.\n"
     ]
    }
   ],
   "source": [
    "# Step 1: Create a file and add initial content\n",
    "with open(\"mydata.txt\", \"w\") as file:\n",
    "    file.write(\"This is the original content of the file.\")\n",
    "\n",
    "# Step 2: Read and print the original content\n",
    "with open(\"mydata.txt\", \"r\") as file:\n",
    "    original_content = file.read()\n",
    "    print(\"Original Content:\")\n",
    "    print(original_content)\n",
    "\n",
    "# Step 3: Overwrite the file with new content\n",
    "with open(\"mydata.txt\", \"w\") as file:\n",
    "    file.write(\"This is the new updated content of the file.\")\n",
    "\n",
    "# Step 4: Read and print the updated content\n",
    "with open(\"mydata.txt\", \"r\") as file:\n",
    "    updated_content = file.read()\n",
    "    print(\"\\nUpdated Content:\")\n",
    "    print(updated_content)\n"
   ]
  },
  {
   "cell_type": "code",
   "execution_count": 2,
   "id": "df16a104-dc4e-4597-8736-49ec3ab37603",
   "metadata": {},
   "outputs": [
    {
     "name": "stdout",
     "output_type": "stream",
     "text": [
      "List of words: ['Python', 'is', 'powerful', 'and', 'easy', 'to', 'learn']\n",
      "Joined sentence: Python is powerful and easy to learn\n"
     ]
    }
   ],
   "source": [
    "# 1️⃣ Given sentence\n",
    "sentence = \"Python is powerful and easy to learn\"\n",
    "\n",
    "# 2️⃣ Use .split() to break into words\n",
    "words = sentence.split()\n",
    "print(\"List of words:\", words)\n",
    "\n",
    "# 3️⃣ Use ' '.join() to join words back into a sentence\n",
    "joined_sentence = ' '.join(words)\n",
    "print(\"Joined sentence:\", joined_sentence)"
   ]
  },
  {
   "cell_type": "code",
   "execution_count": 3,
   "id": "af469156-de5c-458e-b318-923521f822fc",
   "metadata": {},
   "outputs": [
    {
     "name": "stdout",
     "output_type": "stream",
     "text": [
      "Array: [ 5 10 15 20 25]\n",
      "Size: 5\n",
      "Shape: (5,)\n",
      "First 3 elements: [ 5 10 15]\n",
      "Array of zeros: [0. 0. 0. 0. 0.]\n",
      "Array of ones: [1. 1. 1. 1. 1.]\n"
     ]
    }
   ],
   "source": [
    "import numpy as np\n",
    "\n",
    "py_list = [5, 10, 15, 20, 25]\n",
    "arr = np.array(py_list)\n",
    "\n",
    "\n",
    "print(\"Array:\", arr)\n",
    "print(\"Size:\", arr.size)\n",
    "print(\"Shape:\", arr.shape)\n",
    "\n",
    "\n",
    "print(\"First 3 elements:\", arr[:3])\n",
    "\n",
    "zeros_array = np.zeros(5)\n",
    "print(\"Array of zeros:\", zeros_array)\n",
    "\n",
    "\n",
    "ones_array = np.ones(5)\n",
    "print(\"Array of ones:\", ones_array)"
   ]
  },
  {
   "cell_type": "code",
   "execution_count": 4,
   "id": "4f792263-abdf-448d-b29a-c5b011a40834",
   "metadata": {},
   "outputs": [
    {
     "name": "stdout",
     "output_type": "stream",
     "text": [
      "Start\n",
      "Hello!\n"
     ]
    }
   ],
   "source": [
    "def start_decorator(func):\n",
    "    def wrapper():\n",
    "        print(\"Start\")\n",
    "        func()\n",
    "    return wrapper\n",
    "\n",
    "@start_decorator\n",
    "def greet():\n",
    "    print(\"Hello!\")\n",
    "\n",
    "\n",
    "greet()"
   ]
  },
  {
   "cell_type": "code",
   "execution_count": 5,
   "id": "6019fcc7-59fc-4d03-bf3f-de0b0d6f8069",
   "metadata": {},
   "outputs": [
    {
     "name": "stdout",
     "output_type": "stream",
     "text": [
      "Original Content:\n",
      " This is the initial content.\n",
      "\n",
      "Updated Content:\n",
      " This is the updated content.\n",
      "\n"
     ]
    }
   ],
   "source": [
    "with open(\"mydata.txt\", \"w\") as file:\n",
    "    file.write(\"This is the initial content.\\n\")\n",
    "\n",
    "\n",
    "with open(\"mydata.txt\", \"r\") as file:\n",
    "    original_content = file.read()\n",
    "    print(\"Original Content:\\n\", original_content)\n",
    "\n",
    "\n",
    "with open(\"mydata.txt\", \"w\") as file:\n",
    "    file.write(\"This is the updated content.\\n\")\n",
    "\n",
    "\n",
    "with open(\"mydata.txt\", \"r\") as file:\n",
    "    updated_content = file.read()\n",
    "    print(\"Updated Content:\\n\", updated_content)"
   ]
  },
  {
   "cell_type": "code",
   "execution_count": 6,
   "id": "085e9f07-2905-42c5-8c4a-91a60c2cfe15",
   "metadata": {},
   "outputs": [
    {
     "name": "stdout",
     "output_type": "stream",
     "text": [
      "👉 Full array: [10 20 30 40 50 60 70 80 90]\n",
      "📐 Shape: (9,)\n",
      "🔢 Size: 9\n",
      "🔍 Data type (dtype): int32\n",
      "🧱 First 5 elements: [10 20 30 40 50]\n",
      "🧾 Modified array: [ 10  20  30  40  50  60 999 888 777]\n",
      "➕ Sum: 2874\n",
      "📈 Mean: 319.3333333333333\n",
      "📉 Standard Deviation: 405.73801070805945\n"
     ]
    }
   ],
   "source": [
    "import numpy as np\n",
    "arr = np.array([10, 20, 30, 40, 50, 60, 70, 80, 90])\n",
    "print(\"👉 Full array:\", arr)\n",
    "print(\"📐 Shape:\", arr.shape)\n",
    "print(\"🔢 Size:\", arr.size)\n",
    "print(\"🔍 Data type (dtype):\", arr.dtype)\n",
    "print(\"🧱 First 5 elements:\", arr[:5])\n",
    "arr[-3:] = [999, 888, 777]\n",
    "print(\"🧾 Modified array:\", arr)\n",
    "print(\"➕ Sum:\", np.sum(arr))\n",
    "print(\"📈 Mean:\", np.mean(arr))\n",
    "print(\"📉 Standard Deviation:\", np.std(arr))"
   ]
  },
  {
   "cell_type": "code",
   "execution_count": 7,
   "id": "8adb649f-4962-488b-b950-e9d3adb1d952",
   "metadata": {},
   "outputs": [
    {
     "name": "stdout",
     "output_type": "stream",
     "text": [
      "Original Content:\n",
      "This is the original content of the file.\n",
      "\n",
      "Updated Content:\n",
      "This is the new updated content of the file.\n"
     ]
    }
   ],
   "source": [
    "# Step 1: Create a file and add initial content\n",
    "with open(\"mydata.txt\", \"w\") as file:\n",
    "    file.write(\"This is the original content of the file.\")\n",
    "\n",
    "# Step 2: Read and print the original content\n",
    "with open(\"mydata.txt\", \"r\") as file:\n",
    "    original_content = file.read()\n",
    "    print(\"Original Content:\")\n",
    "    print(original_content)\n",
    "\n",
    "# Step 3: Overwrite the file with new content\n",
    "with open(\"mydata.txt\", \"w\") as file:\n",
    "    file.write(\"This is the new updated content of the file.\")\n",
    "\n",
    "# Step 4: Read and print the updated content\n",
    "with open(\"mydata.txt\", \"r\") as file:\n",
    "    updated_content = file.read()\n",
    "    print(\"\\nUpdated Content:\")\n",
    "    print(updated_content)\n"
   ]
  },
  {
   "cell_type": "code",
   "execution_count": null,
   "id": "139c7773-2a24-46e4-8cff-0641ec013080",
   "metadata": {},
   "outputs": [],
   "source": []
  }
 ],
 "metadata": {
  "kernelspec": {
   "display_name": "Python 3 (ipykernel)",
   "language": "python",
   "name": "python3"
  },
  "language_info": {
   "codemirror_mode": {
    "name": "ipython",
    "version": 3
   },
   "file_extension": ".py",
   "mimetype": "text/x-python",
   "name": "python",
   "nbconvert_exporter": "python",
   "pygments_lexer": "ipython3",
   "version": "3.12.7"
  }
 },
 "nbformat": 4,
 "nbformat_minor": 5
}
