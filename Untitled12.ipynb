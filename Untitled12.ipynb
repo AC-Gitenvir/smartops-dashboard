{
 "cells": [
  {
   "cell_type": "code",
   "execution_count": 1,
   "id": "11384d49-733f-4691-84e6-ff8b2a9d078f",
   "metadata": {},
   "outputs": [
    {
     "name": "stdout",
     "output_type": "stream",
     "text": [
      "Defaulting to user installation because normal site-packages is not writeable\n",
      "Requirement already satisfied: opencv-python in c:\\users\\ayush\\appdata\\roaming\\python\\python313\\site-packages (4.11.0.86)\n",
      "Requirement already satisfied: numpy>=1.21.2 in c:\\users\\ayush\\appdata\\roaming\\python\\python313\\site-packages (from opencv-python) (2.3.1)\n"
     ]
    }
   ],
   "source": [
    "!pip install opencv-python\n"
   ]
  },
  {
   "cell_type": "code",
   "execution_count": 2,
   "id": "f8ad7704-782e-4b95-9614-53fa3cbaafc8",
   "metadata": {},
   "outputs": [
    {
     "name": "stdout",
     "output_type": "stream",
     "text": [
      "Requirement already satisfied: opencv-python in c:\\users\\ayush\\appdata\\roaming\\python\\python313\\site-packages (4.11.0.86)\n",
      "Requirement already satisfied: numpy>=1.21.2 in c:\\users\\ayush\\appdata\\roaming\\python\\python313\\site-packages (from opencv-python) (2.3.1)\n"
     ]
    }
   ],
   "source": [
    "!pip install --user opencv-python\n"
   ]
  },
  {
   "cell_type": "code",
   "execution_count": 3,
   "id": "9e69b90a-b4c9-4840-816f-172ed651b0b1",
   "metadata": {},
   "outputs": [
    {
     "ename": "ModuleNotFoundError",
     "evalue": "No module named 'cv2'",
     "output_type": "error",
     "traceback": [
      "\u001b[1;31m---------------------------------------------------------------------------\u001b[0m",
      "\u001b[1;31mModuleNotFoundError\u001b[0m                       Traceback (most recent call last)",
      "Cell \u001b[1;32mIn[3], line 1\u001b[0m\n\u001b[1;32m----> 1\u001b[0m \u001b[38;5;28;01mimport\u001b[39;00m \u001b[38;5;21;01mcv2\u001b[39;00m\n",
      "\u001b[1;31mModuleNotFoundError\u001b[0m: No module named 'cv2'"
     ]
    }
   ],
   "source": [
    "import cv2\n"
   ]
  },
  {
   "cell_type": "code",
   "execution_count": null,
   "id": "0e8517e0-0903-4ccd-8050-aceb2edb489e",
   "metadata": {},
   "outputs": [],
   "source": []
  },
  {
   "cell_type": "code",
   "execution_count": 1,
   "id": "6edb4979-6853-496d-b96d-e78110e73a7a",
   "metadata": {},
   "outputs": [
    {
     "name": "stdout",
     "output_type": "stream",
     "text": [
      "Collecting opencv-python\n",
      "  Downloading opencv_python-4.12.0.88-cp37-abi3-win_amd64.whl.metadata (19 kB)\n",
      "Collecting numpy<2.3.0,>=2 (from opencv-python)\n",
      "  Downloading numpy-2.2.6-cp312-cp312-win_amd64.whl.metadata (60 kB)\n",
      "Downloading opencv_python-4.12.0.88-cp37-abi3-win_amd64.whl (39.0 MB)\n",
      "   ---------------------------------------- 0.0/39.0 MB ? eta -:--:--\n",
      "   ---------------------------------------- 0.3/39.0 MB ? eta -:--:--\n",
      "    --------------------------------------- 0.8/39.0 MB 5.6 MB/s eta 0:00:07\n",
      "   -- ------------------------------------- 2.1/39.0 MB 4.9 MB/s eta 0:00:08\n",
      "   --- ------------------------------------ 3.4/39.0 MB 5.2 MB/s eta 0:00:07\n",
      "   ---- ----------------------------------- 4.7/39.0 MB 5.6 MB/s eta 0:00:07\n",
      "   ------ --------------------------------- 6.6/39.0 MB 6.2 MB/s eta 0:00:06\n",
      "   -------- ------------------------------- 8.4/39.0 MB 6.8 MB/s eta 0:00:05\n",
      "   --------- ------------------------------ 9.7/39.0 MB 6.7 MB/s eta 0:00:05\n",
      "   ----------- ---------------------------- 11.0/39.0 MB 6.6 MB/s eta 0:00:05\n",
      "   ------------ --------------------------- 12.3/39.0 MB 6.7 MB/s eta 0:00:05\n",
      "   -------------- ------------------------- 13.9/39.0 MB 6.9 MB/s eta 0:00:04\n",
      "   -------------- ------------------------- 13.9/39.0 MB 6.9 MB/s eta 0:00:04\n",
      "   -------------- ------------------------- 14.4/39.0 MB 5.8 MB/s eta 0:00:05\n",
      "   ---------------- ----------------------- 15.7/39.0 MB 6.0 MB/s eta 0:00:04\n",
      "   ----------------- ---------------------- 17.3/39.0 MB 6.1 MB/s eta 0:00:04\n",
      "   ------------------- -------------------- 19.1/39.0 MB 6.2 MB/s eta 0:00:04\n",
      "   --------------------- ------------------ 21.0/39.0 MB 6.4 MB/s eta 0:00:03\n",
      "   ----------------------- ---------------- 22.5/39.0 MB 6.5 MB/s eta 0:00:03\n",
      "   ------------------------- -------------- 24.4/39.0 MB 6.6 MB/s eta 0:00:03\n",
      "   -------------------------- ------------- 25.7/39.0 MB 6.6 MB/s eta 0:00:03\n",
      "   -------------------------- ------------- 25.7/39.0 MB 6.6 MB/s eta 0:00:03\n",
      "   -------------------------- ------------- 26.2/39.0 MB 6.2 MB/s eta 0:00:03\n",
      "   ---------------------------- ----------- 27.5/39.0 MB 6.1 MB/s eta 0:00:02\n",
      "   ----------------------------- ---------- 28.3/39.0 MB 6.0 MB/s eta 0:00:02\n",
      "   ----------------------------- ---------- 28.3/39.0 MB 6.0 MB/s eta 0:00:02\n",
      "   ------------------------------ --------- 29.4/39.0 MB 5.8 MB/s eta 0:00:02\n",
      "   ------------------------------ --------- 29.9/39.0 MB 5.7 MB/s eta 0:00:02\n",
      "   ------------------------------- -------- 30.7/39.0 MB 5.6 MB/s eta 0:00:02\n",
      "   -------------------------------- ------- 31.5/39.0 MB 5.5 MB/s eta 0:00:02\n",
      "   -------------------------------- ------- 32.0/39.0 MB 5.5 MB/s eta 0:00:02\n",
      "   --------------------------------- ------ 32.5/39.0 MB 5.4 MB/s eta 0:00:02\n",
      "   ---------------------------------- ----- 33.3/39.0 MB 5.2 MB/s eta 0:00:02\n",
      "   ---------------------------------- ----- 33.8/39.0 MB 5.2 MB/s eta 0:00:01\n",
      "   ----------------------------------- ---- 34.9/39.0 MB 5.2 MB/s eta 0:00:01\n",
      "   ------------------------------------ --- 35.9/39.0 MB 5.2 MB/s eta 0:00:01\n",
      "   ------------------------------------- -- 36.7/39.0 MB 5.2 MB/s eta 0:00:01\n",
      "   -------------------------------------- - 37.5/39.0 MB 5.2 MB/s eta 0:00:01\n",
      "   ---------------------------------------  38.3/39.0 MB 5.1 MB/s eta 0:00:01\n",
      "   ---------------------------------------  38.8/39.0 MB 5.0 MB/s eta 0:00:01\n",
      "   ---------------------------------------- 39.0/39.0 MB 5.0 MB/s eta 0:00:00\n",
      "Downloading numpy-2.2.6-cp312-cp312-win_amd64.whl (12.6 MB)\n",
      "   ---------------------------------------- 0.0/12.6 MB ? eta -:--:--\n",
      "   -- ------------------------------------- 0.8/12.6 MB 4.2 MB/s eta 0:00:03\n",
      "   ---- ----------------------------------- 1.6/12.6 MB 3.7 MB/s eta 0:00:04\n",
      "   ----- ---------------------------------- 1.8/12.6 MB 4.0 MB/s eta 0:00:03\n",
      "   -------- ------------------------------- 2.6/12.6 MB 3.1 MB/s eta 0:00:04\n",
      "   ----------- ---------------------------- 3.7/12.6 MB 3.6 MB/s eta 0:00:03\n",
      "   -------------- ------------------------- 4.7/12.6 MB 3.8 MB/s eta 0:00:03\n",
      "   ------------------ --------------------- 5.8/12.6 MB 4.1 MB/s eta 0:00:02\n",
      "   -------------------- ------------------- 6.6/12.6 MB 4.0 MB/s eta 0:00:02\n",
      "   ------------------------ --------------- 7.6/12.6 MB 4.2 MB/s eta 0:00:02\n",
      "   --------------------------- ------------ 8.7/12.6 MB 4.3 MB/s eta 0:00:01\n",
      "   ----------------------------- ---------- 9.4/12.6 MB 4.3 MB/s eta 0:00:01\n",
      "   -------------------------------- ------- 10.2/12.6 MB 4.2 MB/s eta 0:00:01\n",
      "   ---------------------------------- ----- 11.0/12.6 MB 4.2 MB/s eta 0:00:01\n",
      "   ------------------------------------- -- 11.8/12.6 MB 4.2 MB/s eta 0:00:01\n",
      "   ---------------------------------------- 12.6/12.6 MB 4.2 MB/s eta 0:00:00\n",
      "Installing collected packages: numpy, opencv-python\n",
      "  Attempting uninstall: numpy\n",
      "    Found existing installation: numpy 1.26.4\n",
      "    Uninstalling numpy-1.26.4:\n",
      "      Successfully uninstalled numpy-1.26.4\n",
      "Successfully installed numpy-2.2.6 opencv-python-4.12.0.88\n",
      "Note: you may need to restart the kernel to use updated packages.\n"
     ]
    },
    {
     "name": "stderr",
     "output_type": "stream",
     "text": [
      "ERROR: pip's dependency resolver does not currently take into account all the packages that are installed. This behaviour is the source of the following dependency conflicts.\n",
      "contourpy 1.2.0 requires numpy<2.0,>=1.20, but you have numpy 2.2.6 which is incompatible.\n",
      "gensim 4.3.3 requires numpy<2.0,>=1.18.5, but you have numpy 2.2.6 which is incompatible.\n",
      "numba 0.60.0 requires numpy<2.1,>=1.22, but you have numpy 2.2.6 which is incompatible.\n",
      "streamlit 1.37.1 requires protobuf<6,>=3.20, but you have protobuf 6.31.1 which is incompatible.\n"
     ]
    }
   ],
   "source": [
    "%pip install opencv-python\n"
   ]
  },
  {
   "cell_type": "code",
   "execution_count": 2,
   "id": "2e21b802-52bc-4764-bd0e-8babd977bc8c",
   "metadata": {},
   "outputs": [],
   "source": [
    "import cv2\n"
   ]
  },
  {
   "cell_type": "code",
   "execution_count": 3,
   "id": "258ca147-0299-41c4-b59a-e6105ae3a450",
   "metadata": {},
   "outputs": [],
   "source": [
    "cap =cv2.VideoCapture(1)\n"
   ]
  },
  {
   "cell_type": "code",
   "execution_count": 4,
   "id": "ef733dcc-8b23-4e11-acd7-bc02fbc7d2ff",
   "metadata": {},
   "outputs": [],
   "source": [
    "status , photo = cap.read()"
   ]
  },
  {
   "cell_type": "code",
   "execution_count": 5,
   "id": "66b39cc3-e3f0-4181-bec6-526d7f4354d6",
   "metadata": {},
   "outputs": [
    {
     "name": "stdout",
     "output_type": "stream",
     "text": [
      "False\n"
     ]
    }
   ],
   "source": [
    "print(status)"
   ]
  },
  {
   "cell_type": "code",
   "execution_count": 6,
   "id": "d5a7d6f1-149e-49ab-ae15-46ea1db945a4",
   "metadata": {},
   "outputs": [
    {
     "ename": "error",
     "evalue": "OpenCV(4.12.0) D:\\a\\opencv-python\\opencv-python\\opencv\\modules\\highgui\\src\\window.cpp:973: error: (-215:Assertion failed) size.width>0 && size.height>0 in function 'cv::imshow'\n",
     "output_type": "error",
     "traceback": [
      "\u001b[1;31m---------------------------------------------------------------------------\u001b[0m",
      "\u001b[1;31merror\u001b[0m                                     Traceback (most recent call last)",
      "Cell \u001b[1;32mIn[6], line 1\u001b[0m\n\u001b[1;32m----> 1\u001b[0m cv2\u001b[38;5;241m.\u001b[39mimshow(\u001b[38;5;124m\"\u001b[39m\u001b[38;5;124mh1\u001b[39m\u001b[38;5;124m\"\u001b[39m , photo)\n",
      "\u001b[1;31merror\u001b[0m: OpenCV(4.12.0) D:\\a\\opencv-python\\opencv-python\\opencv\\modules\\highgui\\src\\window.cpp:973: error: (-215:Assertion failed) size.width>0 && size.height>0 in function 'cv::imshow'\n"
     ]
    }
   ],
   "source": [
    "cv2.imshow(\"h1\" , photo)"
   ]
  },
  {
   "cell_type": "code",
   "execution_count": null,
   "id": "dd349a6d-d544-423d-a3c8-2dc210aff2df",
   "metadata": {},
   "outputs": [],
   "source": []
  }
 ],
 "metadata": {
  "kernelspec": {
   "display_name": "Python 3 (ipykernel)",
   "language": "python",
   "name": "python3"
  },
  "language_info": {
   "codemirror_mode": {
    "name": "ipython",
    "version": 3
   },
   "file_extension": ".py",
   "mimetype": "text/x-python",
   "name": "python",
   "nbconvert_exporter": "python",
   "pygments_lexer": "ipython3",
   "version": "3.12.7"
  }
 },
 "nbformat": 4,
 "nbformat_minor": 5
}
