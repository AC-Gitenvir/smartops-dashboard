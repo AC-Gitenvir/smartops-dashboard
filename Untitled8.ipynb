{
 "cells": [
  {
   "cell_type": "code",
   "execution_count": 1,
   "id": "11a9b167-25cb-451e-a05f-f67a773374c8",
   "metadata": {},
   "outputs": [
    {
     "name": "stdout",
     "output_type": "stream",
     "text": [
      "Defaulting to user installation because normal site-packages is not writeable\n",
      "Requirement already satisfied: tweepy in c:\\users\\ayush\\appdata\\roaming\\python\\python313\\site-packages (4.16.0)\n",
      "Requirement already satisfied: oauthlib<4,>=3.2.0 in c:\\users\\ayush\\appdata\\roaming\\python\\python313\\site-packages (from tweepy) (3.3.1)\n",
      "Requirement already satisfied: requests<3,>=2.27.0 in c:\\users\\ayush\\appdata\\roaming\\python\\python313\\site-packages (from tweepy) (2.32.4)\n",
      "Requirement already satisfied: requests-oauthlib<3,>=1.2.0 in c:\\users\\ayush\\appdata\\roaming\\python\\python313\\site-packages (from tweepy) (2.0.0)\n",
      "Requirement already satisfied: charset_normalizer<4,>=2 in c:\\users\\ayush\\appdata\\roaming\\python\\python313\\site-packages (from requests<3,>=2.27.0->tweepy) (3.4.2)\n",
      "Requirement already satisfied: idna<4,>=2.5 in c:\\users\\ayush\\appdata\\roaming\\python\\python313\\site-packages (from requests<3,>=2.27.0->tweepy) (3.10)\n",
      "Requirement already satisfied: urllib3<3,>=1.21.1 in c:\\users\\ayush\\appdata\\roaming\\python\\python313\\site-packages (from requests<3,>=2.27.0->tweepy) (2.4.0)\n",
      "Requirement already satisfied: certifi>=2017.4.17 in c:\\users\\ayush\\appdata\\roaming\\python\\python313\\site-packages (from requests<3,>=2.27.0->tweepy) (2025.6.15)\n"
     ]
    }
   ],
   "source": [
    "!pip install tweepy\n"
   ]
  },
  {
   "cell_type": "code",
   "execution_count": 2,
   "id": "99385f7f-9f3c-4ee6-8f26-5929a16314e8",
   "metadata": {},
   "outputs": [
    {
     "ename": "ModuleNotFoundError",
     "evalue": "No module named 'tweepy'",
     "output_type": "error",
     "traceback": [
      "\u001b[1;31m---------------------------------------------------------------------------\u001b[0m",
      "\u001b[1;31mModuleNotFoundError\u001b[0m                       Traceback (most recent call last)",
      "Cell \u001b[1;32mIn[2], line 1\u001b[0m\n\u001b[1;32m----> 1\u001b[0m \u001b[38;5;28;01mimport\u001b[39;00m \u001b[38;5;21;01mtweepy\u001b[39;00m\n\u001b[0;32m      3\u001b[0m \u001b[38;5;66;03m# Paste your credentials here\u001b[39;00m\n\u001b[0;32m      4\u001b[0m api_key \u001b[38;5;241m=\u001b[39m \u001b[38;5;124m\"\u001b[39m\u001b[38;5;124muzu9gKTi35KseiUZcQuw0zOoe\u001b[39m\u001b[38;5;124m\"\u001b[39m\n",
      "\u001b[1;31mModuleNotFoundError\u001b[0m: No module named 'tweepy'"
     ]
    }
   ],
   "source": [
    "import tweepy\n",
    "\n",
    "# Paste your credentials here\n",
    "api_key = \"uzu9gKTi35KseiUZcQuw0zOoe\"\n",
    "api_secret = \"KOLm1eigLtqrpx6PzlLbCeXBhvrGi3eCCIWP2GL6C2rfxPzfPw\"\n",
    "access_token = \"1946100414149255168-2VJ6KGXvGjkgitFLeaO3hCb9ulm3hx\"\n",
    "access_token_secret = \"0liCAlxRGocrTF1x9U6OHgq6kcZsjKVK09Xx4tCj32WI3\"\n",
    "\n",
    "# Authenticate\n",
    "auth = tweepy.OAuth1UserHandler(api_key, api_secret, access_token, access_token_secret)\n",
    "api = tweepy.API(auth)\n",
    "\n",
    "# Your tweet\n",
    "tweet = \"Hello world! This is my first automated tweet using #Python and #Tweepy 🚀\"\n",
    "\n",
    "# Post the tweet\n",
    "api.update_status(status=tweet)\n",
    "print(\"Tweet posted successfully!\")\n"
   ]
  },
  {
   "cell_type": "code",
   "execution_count": null,
   "id": "8d7bc831-4a6b-4019-b354-0e55cad9dd89",
   "metadata": {},
   "outputs": [],
   "source": []
  }
 ],
 "metadata": {
  "kernelspec": {
   "display_name": "Python 3 (ipykernel)",
   "language": "python",
   "name": "python3"
  },
  "language_info": {
   "codemirror_mode": {
    "name": "ipython",
    "version": 3
   },
   "file_extension": ".py",
   "mimetype": "text/x-python",
   "name": "python",
   "nbconvert_exporter": "python",
   "pygments_lexer": "ipython3",
   "version": "3.12.7"
  }
 },
 "nbformat": 4,
 "nbformat_minor": 5
}
