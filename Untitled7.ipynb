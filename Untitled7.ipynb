{
 "cells": [
  {
   "cell_type": "code",
   "execution_count": 1,
   "id": "39eedade-cbaf-4276-b737-dd59077f500a",
   "metadata": {},
   "outputs": [],
   "source": [
    "import gradio as gr\n",
    "import subprocess\n",
    "import smtplib\n",
    "from email.message import EmailMessage\n",
    "\n",
    "\n",
    "\n"
   ]
  },
  {
   "cell_type": "code",
   "execution_count": 2,
   "id": "212d8366-c1d8-4629-8a8a-ee62e8a0577a",
   "metadata": {},
   "outputs": [],
   "source": [
    "# Task 1: Run Shell Command\n",
    "def run_command(cmd):\n",
    "    try:\n",
    "        result = subprocess.getoutput(cmd)\n",
    "        return f\"✅ Output:\\n{result}\"\n",
    "    except Exception as e:\n",
    "        return f\"❌ Error:\\n{str(e)}\"\n",
    "\n"
   ]
  },
  {
   "cell_type": "code",
   "execution_count": 3,
   "id": "c05dd512-6929-47d5-8d80-8f80294ae027",
   "metadata": {},
   "outputs": [],
   "source": [
    "# Task 2: Start Docker Container\n",
    "def start_docker(container_name):\n",
    "    try:\n",
    "        result = subprocess.getoutput(f\"docker start {container_name}\")\n",
    "        return f\"✅ Docker Response: {result}\"\n",
    "    except Exception as e:\n",
    "        return f\"❌ Error: {str(e)}\"\n",
    "\n"
   ]
  },
  {
   "cell_type": "code",
   "execution_count": 4,
   "id": "84b6fee3-0d68-43dd-9d65-ab473fe4140b",
   "metadata": {},
   "outputs": [],
   "source": [
    "# Task 3: Send Email\n",
    "def send_email(to_email, subject, message):\n",
    "    try:\n",
    "        msg = EmailMessage()\n",
    "        msg.set_content(message)\n",
    "        msg[\"Subject\"] = subject\n",
    "        msg[\"From\"] = \"your_email@gmail.com\"\n",
    "        msg[\"To\"] = to_email\n",
    "        with smtplib.SMTP_SSL(\"smtp.gmail.com\", 465) as smtp:\n",
    "            smtp.login(\"your_email@gmail.com\", \"your_app_password\")\n",
    "            smtp.send_message(msg)\n",
    "        return \"✅ Email sent successfully!\"\n",
    "    except Exception as e:\n",
    "        return f\"❌ Error sending email: {e}\"\n"
   ]
  },
  {
   "cell_type": "code",
   "execution_count": 5,
   "id": "d145a6f3-8e0d-42e3-aa4a-46ddfef4b59d",
   "metadata": {},
   "outputs": [
    {
     "name": "stdout",
     "output_type": "stream",
     "text": [
      "* Running on local URL:  http://127.0.0.1:7860\n",
      "* To create a public link, set `share=True` in `launch()`.\n"
     ]
    },
    {
     "data": {
      "text/html": [
       "<div><iframe src=\"http://127.0.0.1:7860/\" width=\"100%\" height=\"500\" allow=\"autoplay; camera; microphone; clipboard-read; clipboard-write;\" frameborder=\"0\" allowfullscreen></iframe></div>"
      ],
      "text/plain": [
       "<IPython.core.display.HTML object>"
      ]
     },
     "metadata": {},
     "output_type": "display_data"
    },
    {
     "data": {
      "text/plain": []
     },
     "execution_count": 5,
     "metadata": {},
     "output_type": "execute_result"
    }
   ],
   "source": [
    "# Interface Layout\n",
    "with gr.Blocks(title=\"Automation Panel\") as demo:\n",
    "    gr.Markdown(\"## 🚀 Automation Panel using Gradio\")\n",
    "\n",
    "    with gr.Tab(\"🛠 Run Command\"):\n",
    "        cmd_input = gr.Textbox(label=\"Enter shell command\")\n",
    "        cmd_output = gr.Textbox(label=\"Command Output\")\n",
    "        gr.Button(\"Run\").click(fn=run_command, inputs=cmd_input, outputs=cmd_output)\n",
    "\n",
    "    with gr.Tab(\"🐳 Start Docker\"):\n",
    "        docker_name = gr.Textbox(label=\"Container Name\")\n",
    "        docker_output = gr.Textbox(label=\"Result\")\n",
    "        gr.Button(\"Start Docker\").click(fn=start_docker, inputs=docker_name, outputs=docker_output)\n",
    "\n",
    "    with gr.Tab(\"📧 Send Email\"):\n",
    "        to = gr.Textbox(label=\"To Email\")\n",
    "        subject = gr.Textbox(label=\"Subject\")\n",
    "        msg = gr.Textbox(lines=5, label=\"Message\")\n",
    "        mail_status = gr.Textbox(label=\"Status\")\n",
    "        gr.Button(\"Send Email\").click(fn=send_email, inputs=[to, subject, msg], outputs=mail_status)\n",
    "\n",
    "demo.launch()\n"
   ]
  },
  {
   "cell_type": "code",
   "execution_count": null,
   "id": "1f1a92d7-64ee-4bb2-a899-3b2c6e3ba55c",
   "metadata": {},
   "outputs": [],
   "source": []
  }
 ],
 "metadata": {
  "kernelspec": {
   "display_name": "Python 3 (ipykernel)",
   "language": "python",
   "name": "python3"
  },
  "language_info": {
   "codemirror_mode": {
    "name": "ipython",
    "version": 3
   },
   "file_extension": ".py",
   "mimetype": "text/x-python",
   "name": "python",
   "nbconvert_exporter": "python",
   "pygments_lexer": "ipython3",
   "version": "3.12.7"
  }
 },
 "nbformat": 4,
 "nbformat_minor": 5
}
