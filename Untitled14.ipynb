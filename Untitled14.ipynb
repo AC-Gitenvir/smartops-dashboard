{
 "cells": [
  {
   "cell_type": "code",
   "execution_count": 1,
   "id": "791f1d23-fbed-422c-9432-050cce5d7e88",
   "metadata": {},
   "outputs": [
    {
     "data": {
      "application/vnd.jupyter.widget-view+json": {
       "model_id": "2b9b5b04ad30404abfcd21b9f2202fb5",
       "version_major": 2,
       "version_minor": 0
      },
      "text/plain": [
       "VBox(children=(Text(value='', description='Email:', layout=Layout(width='400px'), placeholder='Enter LinkedIn …"
      ]
     },
     "metadata": {},
     "output_type": "display_data"
    }
   ],
   "source": [
    "import time\n",
    "from selenium import webdriver\n",
    "from selenium.webdriver.common.by import By\n",
    "from selenium.webdriver.common.keys import Keys\n",
    "from selenium.webdriver.chrome.service import Service\n",
    "from webdriver_manager.chrome import ChromeDriverManager\n",
    "import ipywidgets as widgets\n",
    "from IPython.display import display, clear_output\n",
    "\n",
    "# --- UI Widgets ---\n",
    "email = widgets.Text(\n",
    "    description=\"Email:\",\n",
    "    placeholder=\"Enter LinkedIn email\",\n",
    "    layout=widgets.Layout(width='400px')\n",
    ")\n",
    "\n",
    "password = widgets.Password(\n",
    "    description=\"Password:\",\n",
    "    placeholder=\"Enter LinkedIn password\",\n",
    "    layout=widgets.Layout(width='400px')\n",
    ")\n",
    "\n",
    "post_url = widgets.Text(\n",
    "    description=\"Post URL:\",\n",
    "    placeholder=\"https://www.linkedin.com/feed/update/...\",\n",
    "    layout=widgets.Layout(width='600px')\n",
    ")\n",
    "\n",
    "comment_text = widgets.Textarea(\n",
    "    description=\"Comment:\",\n",
    "    placeholder=\"Type your comment here...\",\n",
    "    layout=widgets.Layout(width='600px', height='100px')\n",
    ")\n",
    "\n",
    "submit_btn = widgets.Button(\n",
    "    description=\"Post Comment on LinkedIn\",\n",
    "    button_style='success'\n",
    ")\n",
    "\n",
    "output = widgets.Output()\n",
    "\n",
    "# --- Display All Together ---\n",
    "form = widgets.VBox([email, password, post_url, comment_text, submit_btn, output])\n",
    "display(form)\n",
    "\n",
    "# --- Automation Logic ---\n",
    "def post_linkedin_comment(btn):\n",
    "    output.clear_output()\n",
    "    with output:\n",
    "        try:\n",
    "            print(\"🚀 Launching browser...\")\n",
    "            driver = webdriver.Chrome(service=Service(ChromeDriverManager().install()))\n",
    "            driver.get(\"https://www.linkedin.com/login\")\n",
    "            time.sleep(3)\n",
    "\n",
    "            # Log in\n",
    "            driver.find_element(By.ID, \"username\").send_keys(email.value)\n",
    "            driver.find_element(By.ID, \"password\").send_keys(password.value)\n",
    "            driver.find_element(By.XPATH, \"//button[@type='submit']\").click()\n",
    "            time.sleep(5)\n",
    "\n",
    "            # Go to post URL\n",
    "            driver.get(post_url.value)\n",
    "            time.sleep(6)\n",
    "\n",
    "            # Scroll to load comment section\n",
    "            driver.execute_script(\"window.scrollBy(0, 800);\")\n",
    "            time.sleep(3)\n",
    "\n",
    "            # Click \"Comment\" button\n",
    "            try:\n",
    "                comment_button = driver.find_element(By.XPATH, \"//button[contains(@aria-label, 'Comment')]\")\n",
    "                comment_button.click()\n",
    "                time.sleep(3)\n",
    "            except:\n",
    "                print(\"⚠ Comment button not found. Trying to continue.\")\n",
    "\n",
    "            # Find comment box and type\n",
    "            comment_box = driver.find_element(By.XPATH, \"//div[contains(@class, 'comments-comment-box__editor')]\")\n",
    "            comment_box.click()\n",
    "            comment_box.send_keys(comment_text.value + Keys.RETURN)\n",
    "            time.sleep(3)\n",
    "            print(\"✅ Comment posted successfully!\")\n",
    "\n",
    "            driver.quit()\n",
    "        except Exception as e:\n",
    "            print(\"❌ Failed:\", e)\n",
    "\n",
    "# --- Bind Button ---\n",
    "submit_btn.on_click(post_linkedin_comment)"
   ]
  },
  {
   "cell_type": "code",
   "execution_count": null,
   "id": "1371842c-b5a5-4765-a182-0e2f8ae945c9",
   "metadata": {},
   "outputs": [],
   "source": []
  }
 ],
 "metadata": {
  "kernelspec": {
   "display_name": "Python 3 (ipykernel)",
   "language": "python",
   "name": "python3"
  },
  "language_info": {
   "codemirror_mode": {
    "name": "ipython",
    "version": 3
   },
   "file_extension": ".py",
   "mimetype": "text/x-python",
   "name": "python",
   "nbconvert_exporter": "python",
   "pygments_lexer": "ipython3",
   "version": "3.12.7"
  }
 },
 "nbformat": 4,
 "nbformat_minor": 5
}
